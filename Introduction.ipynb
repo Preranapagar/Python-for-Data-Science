{
 "cells": [
  {
   "cell_type": "markdown",
   "id": "993a0016",
   "metadata": {},
   "source": [
    "### <span style='color:purple '> Printing the first program </span>"
   ]
  },
  {
   "cell_type": "code",
   "execution_count": 4,
   "id": "9eca0e28",
   "metadata": {},
   "outputs": [
    {
     "name": "stdout",
     "output_type": "stream",
     "text": [
      "Welcome on board, lets begin the journey together\n"
     ]
    }
   ],
   "source": [
    "print('Welcome on board, lets begin the journey together')"
   ]
  },
  {
   "cell_type": "markdown",
   "id": "a690fde8",
   "metadata": {},
   "source": [
    "#### Here we are continuing with Jupyter Notebook "
   ]
  },
  {
   "attachments": {},
   "cell_type": "markdown",
   "id": "d99776ba",
   "metadata": {},
   "source": [
    "### <span style='color:purple '> How to run a cell </span>"
   ]
  },
  {
   "cell_type": "markdown",
   "id": "a1d160c2",
   "metadata": {},
   "source": [
    "1. control + Enter >> Used to run the current cell\n",
    "2. Shift + Enter   >> Used to execute current cell and enter in the next cell\n",
    "3. Alt + Enter     >> Used to execute current cell and create/add new blank cell"
   ]
  },
  {
   "cell_type": "markdown",
   "id": "a011d348",
   "metadata": {},
   "source": [
    "### <span style='color:purple '> How to comment </span>"
   ]
  },
  {
   "cell_type": "markdown",
   "id": "7ac2d412",
   "metadata": {},
   "source": [
    "1. '#'  >>To comment a single line\n",
    "2. Control + /  >> TO comment multiple line\n",
    "3. triple quotes\n",
    "\n",
    "ex."
   ]
  },
  {
   "cell_type": "code",
   "execution_count": 5,
   "id": "fc3a0b7c",
   "metadata": {},
   "outputs": [
    {
     "name": "stdout",
     "output_type": "stream",
     "text": [
      "Hello\n"
     ]
    }
   ],
   "source": [
    "print('Hello')\n",
    "#print('Welcome')"
   ]
  },
  {
   "cell_type": "markdown",
   "id": "50835973",
   "metadata": {},
   "source": [
    "In above code execuation we can see that line is not executed because it is commented down."
   ]
  },
  {
   "cell_type": "code",
   "execution_count": 7,
   "id": "99659071",
   "metadata": {},
   "outputs": [],
   "source": [
    "\"\"\"Hello Learners, I hope your are having a great time.\n",
    "I wish you will find this helpful\"\"\""
   ]
  },
  {
   "cell_type": "code",
   "execution_count": null,
   "id": "dc77a306",
   "metadata": {},
   "outputs": [],
   "source": []
  }
 ],
 "metadata": {
  "kernelspec": {
   "display_name": "Python 3 (ipykernel)",
   "language": "python",
   "name": "python3"
  },
  "language_info": {
   "codemirror_mode": {
    "name": "ipython",
    "version": 3
   },
   "file_extension": ".py",
   "mimetype": "text/x-python",
   "name": "python",
   "nbconvert_exporter": "python",
   "pygments_lexer": "ipython3",
   "version": "3.9.7"
  }
 },
 "nbformat": 4,
 "nbformat_minor": 5
}
