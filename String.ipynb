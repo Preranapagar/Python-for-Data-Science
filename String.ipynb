{
 "cells": [
  {
   "cell_type": "markdown",
   "id": "08d02889",
   "metadata": {},
   "source": [
    "## <span style='color:purple '> String </span>"
   ]
  },
  {
   "cell_type": "markdown",
   "id": "e520302f",
   "metadata": {},
   "source": [
    "String is a collection of characters surrounded by single quotes,double quote or triple quote\n",
    "\n",
    "We can not use single quote in single quote\n",
    "\n",
    "We can not use double quote in double quote\n",
    "\n",
    "string are immutable\n",
    "\n",
    "Unchangable\n",
    "\n",
    "We can not modify string once created"
   ]
  },
  {
   "cell_type": "code",
   "execution_count": 1,
   "id": "254a7a31",
   "metadata": {},
   "outputs": [
    {
     "data": {
      "text/plain": [
       "'Python'"
      ]
     },
     "execution_count": 1,
     "metadata": {},
     "output_type": "execute_result"
    }
   ],
   "source": [
    "string='Python' #right method\n",
    "string"
   ]
  },
  {
   "cell_type": "code",
   "execution_count": 2,
   "id": "e956670d",
   "metadata": {},
   "outputs": [
    {
     "data": {
      "text/plain": [
       "'Python'"
      ]
     },
     "execution_count": 2,
     "metadata": {},
     "output_type": "execute_result"
    }
   ],
   "source": [
    "string=\"Python\" #right method\n",
    "string"
   ]
  },
  {
   "cell_type": "code",
   "execution_count": 4,
   "id": "d1782045",
   "metadata": {},
   "outputs": [
    {
     "ename": "SyntaxError",
     "evalue": "EOL while scanning string literal (858952078.py, line 1)",
     "output_type": "error",
     "traceback": [
      "\u001b[1;36m  File \u001b[1;32m\"C:\\Users\\Prerana\\AppData\\Local\\Temp\\ipykernel_24204\\858952078.py\"\u001b[1;36m, line \u001b[1;32m1\u001b[0m\n\u001b[1;33m    string=\"python\"'\u001b[0m\n\u001b[1;37m                    ^\u001b[0m\n\u001b[1;31mSyntaxError\u001b[0m\u001b[1;31m:\u001b[0m EOL while scanning string literal\n"
     ]
    }
   ],
   "source": [
    "string=\"python\"' #wrong method\n",
    "string"
   ]
  },
  {
   "cell_type": "code",
   "execution_count": 5,
   "id": "919dfd60",
   "metadata": {},
   "outputs": [
    {
     "data": {
      "text/plain": [
       "'Python course'"
      ]
     },
     "execution_count": 5,
     "metadata": {},
     "output_type": "execute_result"
    }
   ],
   "source": [
    "string='Python course' #right method\n",
    "string"
   ]
  },
  {
   "cell_type": "code",
   "execution_count": 6,
   "id": "e2e73ff0",
   "metadata": {},
   "outputs": [
    {
     "data": {
      "text/plain": [
       "'Python and data science'"
      ]
     },
     "execution_count": 6,
     "metadata": {},
     "output_type": "execute_result"
    }
   ],
   "source": [
    "string=\"Python and data science\" #right method\n",
    "string"
   ]
  },
  {
   "cell_type": "code",
   "execution_count": 7,
   "id": "359e999c",
   "metadata": {},
   "outputs": [
    {
     "data": {
      "text/plain": [
       "\"Python and 'data' science\""
      ]
     },
     "execution_count": 7,
     "metadata": {},
     "output_type": "execute_result"
    }
   ],
   "source": [
    "string=\"Python and 'data' science\" #right method\n",
    "string"
   ]
  },
  {
   "cell_type": "code",
   "execution_count": 8,
   "id": "201ad196",
   "metadata": {},
   "outputs": [
    {
     "ename": "SyntaxError",
     "evalue": "invalid syntax (3066266519.py, line 1)",
     "output_type": "error",
     "traceback": [
      "\u001b[1;36m  File \u001b[1;32m\"C:\\Users\\Prerana\\AppData\\Local\\Temp\\ipykernel_24204\\3066266519.py\"\u001b[1;36m, line \u001b[1;32m1\u001b[0m\n\u001b[1;33m    string=\"Python and \"data\" science\"\u001b[0m\n\u001b[1;37m                        ^\u001b[0m\n\u001b[1;31mSyntaxError\u001b[0m\u001b[1;31m:\u001b[0m invalid syntax\n"
     ]
    }
   ],
   "source": [
    "string=\"Python and \"data\" science\" #wrong method\n",
    "string"
   ]
  },
  {
   "cell_type": "code",
   "execution_count": 9,
   "id": "882cbdd3",
   "metadata": {},
   "outputs": [
    {
     "data": {
      "text/plain": [
       "'Python and \"data\" science'"
      ]
     },
     "execution_count": 9,
     "metadata": {},
     "output_type": "execute_result"
    }
   ],
   "source": [
    "string=\"Python and \\\"data\\\" science\" #right method\n",
    "string"
   ]
  },
  {
   "cell_type": "code",
   "execution_count": 10,
   "id": "689609a5",
   "metadata": {},
   "outputs": [
    {
     "ename": "SyntaxError",
     "evalue": "EOL while scanning string literal (1708792598.py, line 1)",
     "output_type": "error",
     "traceback": [
      "\u001b[1;36m  File \u001b[1;32m\"C:\\Users\\Prerana\\AppData\\Local\\Temp\\ipykernel_24204\\1708792598.py\"\u001b[1;36m, line \u001b[1;32m1\u001b[0m\n\u001b[1;33m    string='Python\u001b[0m\n\u001b[1;37m                  ^\u001b[0m\n\u001b[1;31mSyntaxError\u001b[0m\u001b[1;31m:\u001b[0m EOL while scanning string literal\n"
     ]
    }
   ],
   "source": [
    "string='Python                   #wrong method\n",
    "and data science' \n",
    "\n",
    "string"
   ]
  },
  {
   "cell_type": "code",
   "execution_count": 11,
   "id": "ddcae383",
   "metadata": {},
   "outputs": [
    {
     "data": {
      "text/plain": [
       "' Python\\nand data science'"
      ]
     },
     "execution_count": 11,
     "metadata": {},
     "output_type": "execute_result"
    }
   ],
   "source": [
    "string=''' Python\n",
    "and data science'''\n",
    "\n",
    "string"
   ]
  },
  {
   "cell_type": "code",
   "execution_count": 12,
   "id": "5164e238",
   "metadata": {},
   "outputs": [
    {
     "data": {
      "text/plain": [
       "' Python\\n            and data science'"
      ]
     },
     "execution_count": 12,
     "metadata": {},
     "output_type": "execute_result"
    }
   ],
   "source": [
    "string=''' Python\n",
    "            and data science'''\n",
    "\n",
    "string"
   ]
  },
  {
   "cell_type": "code",
   "execution_count": 13,
   "id": "4c886bc5",
   "metadata": {},
   "outputs": [
    {
     "name": "stdout",
     "output_type": "stream",
     "text": [
      "Machine learning is the study of computer algorithms that can improve automatically through experience and by the use of data. It is seen as a part of artificial intelligence\n"
     ]
    }
   ],
   "source": [
    "machine_learning = \"Machine learning is the study of computer algorithms that can improve automatically through experience and by the use of data. It is seen as a part of artificial intelligence\"\n",
    "print(machine_learning)"
   ]
  },
  {
   "cell_type": "code",
   "execution_count": 14,
   "id": "a1adb4b8",
   "metadata": {},
   "outputs": [
    {
     "name": "stdout",
     "output_type": "stream",
     "text": [
      "Machine learning is the \n",
      "study of computer algorithms that \n",
      "can improve automatically through \n",
      "experience and by the use of data. \n",
      "It is seen as a part of artificial \n",
      "intelligence\n"
     ]
    }
   ],
   "source": [
    "machine_learning = \"\"\"Machine learning is the \n",
    "study of computer algorithms that \n",
    "can improve automatically through \n",
    "experience and by the use of data. \n",
    "It is seen as a part of artificial \n",
    "intelligence\"\"\"\n",
    "\n",
    "print(machine_learning)"
   ]
  },
  {
   "cell_type": "markdown",
   "id": "5ce0e209",
   "metadata": {},
   "source": [
    "### <span style='color:purple '> Escape Character </span>"
   ]
  },
  {
   "cell_type": "markdown",
   "id": "d6549ed2",
   "metadata": {},
   "source": [
    "backslash (\\) is used as escape character"
   ]
  },
  {
   "cell_type": "code",
   "execution_count": 15,
   "id": "5944525f",
   "metadata": {},
   "outputs": [
    {
     "ename": "SyntaxError",
     "evalue": "invalid syntax (4230511126.py, line 1)",
     "output_type": "error",
     "traceback": [
      "\u001b[1;36m  File \u001b[1;32m\"C:\\Users\\Prerana\\AppData\\Local\\Temp\\ipykernel_24204\\4230511126.py\"\u001b[1;36m, line \u001b[1;32m1\u001b[0m\n\u001b[1;33m    s1 = 'python's class' #wrong method\u001b[0m\n\u001b[1;37m                 ^\u001b[0m\n\u001b[1;31mSyntaxError\u001b[0m\u001b[1;31m:\u001b[0m invalid syntax\n"
     ]
    }
   ],
   "source": [
    "s1 = 'python's class' #wrong method\n",
    "print(s1)"
   ]
  },
  {
   "cell_type": "code",
   "execution_count": 16,
   "id": "6d1c7554",
   "metadata": {},
   "outputs": [
    {
     "name": "stdout",
     "output_type": "stream",
     "text": [
      "python's class\n"
     ]
    }
   ],
   "source": [
    "s1 = 'python\\'s class' #right method\n",
    "print(s1)"
   ]
  },
  {
   "cell_type": "code",
   "execution_count": 17,
   "id": "61460bc2",
   "metadata": {},
   "outputs": [
    {
     "name": "stdout",
     "output_type": "stream",
     "text": [
      "python\"s class\n"
     ]
    }
   ],
   "source": [
    "s1 = \"python\\\"s class\" #using balckslash\n",
    "print(s1)"
   ]
  },
  {
   "cell_type": "code",
   "execution_count": 18,
   "id": "e4b048db",
   "metadata": {},
   "outputs": [
    {
     "ename": "SyntaxError",
     "evalue": "invalid syntax (2782097983.py, line 1)",
     "output_type": "error",
     "traceback": [
      "\u001b[1;36m  File \u001b[1;32m\"C:\\Users\\Prerana\\AppData\\Local\\Temp\\ipykernel_24204\\2782097983.py\"\u001b[1;36m, line \u001b[1;32m1\u001b[0m\n\u001b[1;33m    s1 = \"python and data \"science\" class\" #wrong method\u001b[0m\n\u001b[1;37m                           ^\u001b[0m\n\u001b[1;31mSyntaxError\u001b[0m\u001b[1;31m:\u001b[0m invalid syntax\n"
     ]
    }
   ],
   "source": [
    "s1 = \"python and data \"science\" class\" #wrong method\n",
    "print(s1)"
   ]
  },
  {
   "cell_type": "code",
   "execution_count": 19,
   "id": "b68a9d75",
   "metadata": {},
   "outputs": [
    {
     "name": "stdout",
     "output_type": "stream",
     "text": [
      "python and data \"science\" class\n"
     ]
    }
   ],
   "source": [
    "s1 = \"python and data \\\"science\\\" class\" #right method\n",
    "print(s1)"
   ]
  },
  {
   "cell_type": "markdown",
   "id": "dbafbec7",
   "metadata": {},
   "source": [
    "#### <span style='color:purple '> 1. \\n </span>"
   ]
  },
  {
   "cell_type": "markdown",
   "id": "fcf87042",
   "metadata": {},
   "source": [
    "\\n is use for new line"
   ]
  },
  {
   "cell_type": "code",
   "execution_count": 20,
   "id": "b254a376",
   "metadata": {},
   "outputs": [
    {
     "data": {
      "text/plain": [
       "'Machine learning is the study of computer algorithm'"
      ]
     },
     "execution_count": 20,
     "metadata": {},
     "output_type": "execute_result"
    }
   ],
   "source": [
    "machine_learning = \"Machine learning is the study of computer algorithm\"\n",
    "machine_learning"
   ]
  },
  {
   "cell_type": "code",
   "execution_count": 21,
   "id": "4165087b",
   "metadata": {},
   "outputs": [
    {
     "name": "stdout",
     "output_type": "stream",
     "text": [
      "Machine learning is the study of \n",
      "computer algorithm\n"
     ]
    }
   ],
   "source": [
    "machine_learning = 'Machine learning is the study of \\ncomputer algorithm'\n",
    "print(machine_learning)"
   ]
  },
  {
   "cell_type": "code",
   "execution_count": 22,
   "id": "c1660cd7",
   "metadata": {},
   "outputs": [
    {
     "name": "stdout",
     "output_type": "stream",
     "text": [
      "Machine learning \n",
      "is the \n",
      "study of \n",
      "computer algorithm\n"
     ]
    }
   ],
   "source": [
    "machine_learning = 'Machine learning \\nis the \\nstudy of \\ncomputer algorithm'\n",
    "print(machine_learning)"
   ]
  },
  {
   "cell_type": "code",
   "execution_count": 23,
   "id": "ad4ea64e",
   "metadata": {},
   "outputs": [
    {
     "ename": "SyntaxError",
     "evalue": "(unicode error) 'unicodeescape' codec can't decode bytes in position 2-3: truncated \\UXXXXXXXX escape (2477018860.py, line 1)",
     "output_type": "error",
     "traceback": [
      "\u001b[1;36m  File \u001b[1;32m\"C:\\Users\\Prerana\\AppData\\Local\\Temp\\ipykernel_24204\\2477018860.py\"\u001b[1;36m, line \u001b[1;32m1\u001b[0m\n\u001b[1;33m    file_path=\"C:\\Users\\Prerana\\Python-for-Data-Science\\String.ipynb\"\u001b[0m\n\u001b[1;37m                                                                     ^\u001b[0m\n\u001b[1;31mSyntaxError\u001b[0m\u001b[1;31m:\u001b[0m (unicode error) 'unicodeescape' codec can't decode bytes in position 2-3: truncated \\UXXXXXXXX escape\n"
     ]
    }
   ],
   "source": [
    "file_path=\"C:\\Users\\Prerana\\Python-for-Data-Science\\String.ipynb\"\n",
    "print(file_path)"
   ]
  },
  {
   "cell_type": "code",
   "execution_count": 24,
   "id": "0148001b",
   "metadata": {},
   "outputs": [
    {
     "name": "stdout",
     "output_type": "stream",
     "text": [
      "C:\\Users\\Prerana\\Python-for-Data-Science\\String.ipynb\n"
     ]
    }
   ],
   "source": [
    "file_path=r\"C:\\Users\\Prerana\\Python-for-Data-Science\\String.ipynb\" #use r to read path\n",
    "print(file_path)"
   ]
  },
  {
   "cell_type": "code",
   "execution_count": 25,
   "id": "b1661b63",
   "metadata": {},
   "outputs": [
    {
     "name": "stdout",
     "output_type": "stream",
     "text": [
      "C:\\Users\\Prerana\\Python-for-Data-Science\\String.ipynb\n"
     ]
    }
   ],
   "source": [
    "file_path=\"C:\\\\Users\\\\Prerana\\\\Python-for-Data-Science\\\\String.ipynb\" #use \\\\ to read path\n",
    "print(file_path)"
   ]
  },
  {
   "cell_type": "code",
   "execution_count": 26,
   "id": "7cb5b61c",
   "metadata": {},
   "outputs": [
    {
     "name": "stdout",
     "output_type": "stream",
     "text": [
      "C:/Users/Prerana/Python-for-Data-Science/String.ipynb\n"
     ]
    }
   ],
   "source": [
    "file_path=\"C:/Users/Prerana/Python-for-Data-Science/String.ipynb\" #change blackslash to forward slash\n",
    "print(file_path)"
   ]
  },
  {
   "cell_type": "markdown",
   "id": "ee13419f",
   "metadata": {},
   "source": [
    "#### <span style='color:purple '> 2. \\t </span>"
   ]
  },
  {
   "cell_type": "markdown",
   "id": "5dd12f96",
   "metadata": {},
   "source": [
    "\\t for tab"
   ]
  },
  {
   "cell_type": "code",
   "execution_count": 27,
   "id": "a48e775c",
   "metadata": {},
   "outputs": [
    {
     "name": "stdout",
     "output_type": "stream",
     "text": [
      "python\tclass\n"
     ]
    }
   ],
   "source": [
    "string = 'python\\tclass'\n",
    "print(string)"
   ]
  },
  {
   "cell_type": "code",
   "execution_count": 28,
   "id": "799c04be",
   "metadata": {},
   "outputs": [
    {
     "name": "stdout",
     "output_type": "stream",
     "text": [
      "pythonanddatascienceclass\n"
     ]
    }
   ],
   "source": [
    "string = 'pythonanddatascienceclass'\n",
    "print(string)"
   ]
  },
  {
   "cell_type": "code",
   "execution_count": 29,
   "id": "46f10e77",
   "metadata": {},
   "outputs": [
    {
     "name": "stdout",
     "output_type": "stream",
     "text": [
      "python\tand\tdata\tscience\tclass\n"
     ]
    }
   ],
   "source": [
    "string = 'python\\tand\\tdata\\tscience\\tclass'\n",
    "print(string)"
   ]
  },
  {
   "cell_type": "markdown",
   "id": "ad730d9f",
   "metadata": {},
   "source": [
    "### <span style='color:purple '> String Indexing </span>"
   ]
  },
  {
   "cell_type": "markdown",
   "id": "2bb9206b",
   "metadata": {},
   "source": [
    "Indexing will start from 0\n",
    "[] is used to access item\n",
    "len is used to check lenght of string"
   ]
  },
  {
   "cell_type": "code",
   "execution_count": 30,
   "id": "574fda52",
   "metadata": {},
   "outputs": [
    {
     "data": {
      "text/plain": [
       "'n'"
      ]
     },
     "execution_count": 30,
     "metadata": {},
     "output_type": "execute_result"
    }
   ],
   "source": [
    "string = \"python\"\n",
    "string[0] # 'p'\n",
    "string[1] # y\n",
    "string[2] # t\n",
    "string[3] # h\n",
    "string[4] # o\n",
    "string[5] # n"
   ]
  },
  {
   "cell_type": "code",
   "execution_count": 31,
   "id": "5fee382a",
   "metadata": {},
   "outputs": [
    {
     "data": {
      "text/plain": [
       "'a'"
      ]
     },
     "execution_count": 31,
     "metadata": {},
     "output_type": "execute_result"
    }
   ],
   "source": [
    "string = \"python and\"\n",
    "string[0] # 'p'\n",
    "string[1] # y\n",
    "string[2] # t\n",
    "string[3] # h\n",
    "string[4] # o\n",
    "string[5] # n\n",
    "string[6] # space\n",
    "string[7] # a"
   ]
  },
  {
   "cell_type": "code",
   "execution_count": 32,
   "id": "efcb0dd0",
   "metadata": {},
   "outputs": [
    {
     "data": {
      "text/plain": [
       "23"
      ]
     },
     "execution_count": 32,
     "metadata": {},
     "output_type": "execute_result"
    }
   ],
   "source": [
    "string='Python and Data Science'\n",
    "len(string)"
   ]
  },
  {
   "cell_type": "markdown",
   "id": "7ef3fbce",
   "metadata": {},
   "source": [
    "### <span style='color:purple '> Negative Indexing </span>"
   ]
  },
  {
   "cell_type": "markdown",
   "id": "ac69e487",
   "metadata": {},
   "source": [
    "string='python'\n",
    "\n",
    " p    y    t    h   o   n\n",
    " 0    1    2    3   4   5\n",
    "-6   -5   -4   -3  -2  -1"
   ]
  },
  {
   "cell_type": "code",
   "execution_count": 33,
   "id": "cf09c4e8",
   "metadata": {},
   "outputs": [
    {
     "data": {
      "text/plain": [
       "'t'"
      ]
     },
     "execution_count": 33,
     "metadata": {},
     "output_type": "execute_result"
    }
   ],
   "source": [
    "string='python'\n",
    "\n",
    "string[2]"
   ]
  },
  {
   "cell_type": "code",
   "execution_count": 34,
   "id": "59984509",
   "metadata": {},
   "outputs": [
    {
     "data": {
      "text/plain": [
       "'t'"
      ]
     },
     "execution_count": 34,
     "metadata": {},
     "output_type": "execute_result"
    }
   ],
   "source": [
    "string[-4]"
   ]
  },
  {
   "cell_type": "code",
   "execution_count": 35,
   "id": "a077d725",
   "metadata": {},
   "outputs": [
    {
     "name": "stdout",
     "output_type": "stream",
     "text": [
      "7\n",
      "e\n",
      "e\n"
     ]
    }
   ],
   "source": [
    "string='Science'\n",
    "length=len(string)\n",
    "print(length)\n",
    "\n",
    "print(string[length-1])\n",
    "print(string[-1])"
   ]
  },
  {
   "cell_type": "markdown",
   "id": "fa9a9ed4",
   "metadata": {},
   "source": [
    "### <span style='color:purple '> Slicing </span>"
   ]
  },
  {
   "cell_type": "code",
   "execution_count": null,
   "id": "1f1867e6",
   "metadata": {},
   "outputs": [],
   "source": [
    "string[start_index : end_index]\n",
    "start_index >> default 0  >> include\n",
    "end_index >> length  >> exclude"
   ]
  },
  {
   "cell_type": "code",
   "execution_count": 36,
   "id": "1a07dba9",
   "metadata": {},
   "outputs": [
    {
     "data": {
      "text/plain": [
       "'Mach'"
      ]
     },
     "execution_count": 36,
     "metadata": {},
     "output_type": "execute_result"
    }
   ],
   "source": [
    "string='Machine learning'\n",
    "\n",
    "string[0:4] #0 1 2 3"
   ]
  },
  {
   "cell_type": "code",
   "execution_count": 37,
   "id": "e060f3aa",
   "metadata": {},
   "outputs": [
    {
     "data": {
      "text/plain": [
       "'ach'"
      ]
     },
     "execution_count": 37,
     "metadata": {},
     "output_type": "execute_result"
    }
   ],
   "source": [
    "string='Machine learning'\n",
    "\n",
    "string[1:4] #1 2 3"
   ]
  },
  {
   "cell_type": "code",
   "execution_count": 38,
   "id": "4bb2921e",
   "metadata": {},
   "outputs": [
    {
     "data": {
      "text/plain": [
       "'Mach'"
      ]
     },
     "execution_count": 38,
     "metadata": {},
     "output_type": "execute_result"
    }
   ],
   "source": [
    "string='Machine learning'\n",
    "\n",
    "string[:4] #consider from start "
   ]
  },
  {
   "cell_type": "code",
   "execution_count": 39,
   "id": "92445db0",
   "metadata": {},
   "outputs": [
    {
     "data": {
      "text/plain": [
       "'ine learning'"
      ]
     },
     "execution_count": 39,
     "metadata": {},
     "output_type": "execute_result"
    }
   ],
   "source": [
    "string='Machine learning'\n",
    "\n",
    "string[4:] #consider till end"
   ]
  },
  {
   "cell_type": "code",
   "execution_count": 40,
   "id": "902f0e9e",
   "metadata": {},
   "outputs": [
    {
     "name": "stdout",
     "output_type": "stream",
     "text": [
      "7\n"
     ]
    },
    {
     "data": {
      "text/plain": [
       "'machine'"
      ]
     },
     "execution_count": 40,
     "metadata": {},
     "output_type": "execute_result"
    }
   ],
   "source": [
    "string = 'machine'\n",
    "print(len(string))\n",
    "string[:len(string)]  "
   ]
  },
  {
   "cell_type": "markdown",
   "id": "67478050",
   "metadata": {},
   "source": [
    "### <span style='color:purple '> String Functions </span>"
   ]
  },
  {
   "cell_type": "code",
   "execution_count": 41,
   "id": "99660bb3",
   "metadata": {},
   "outputs": [
    {
     "name": "stdout",
     "output_type": "stream",
     "text": [
      "str1 >> data\n",
      "str2 >> science\n",
      "str3 >> datascience\n"
     ]
    }
   ],
   "source": [
    "str1 = 'data'\n",
    "str2 = 'science'\n",
    "str3 = str1 + str2\n",
    "print('str1 >>',str1)\n",
    "print('str2 >>',str2)\n",
    "print('str3 >>',str3)"
   ]
  },
  {
   "cell_type": "code",
   "execution_count": 42,
   "id": "1b6dd82a",
   "metadata": {},
   "outputs": [
    {
     "name": "stdout",
     "output_type": "stream",
     "text": [
      "str1 >> data\n",
      "str2 >> science\n",
      "str3 >> data science\n"
     ]
    }
   ],
   "source": [
    "str1 = 'data'\n",
    "str2 = 'science'\n",
    "str3 = str1 + ' ' + str2\n",
    "\n",
    "print('str1 >>',str1)\n",
    "print('str2 >>',str2)\n",
    "print('str3 >>',str3)"
   ]
  },
  {
   "cell_type": "code",
   "execution_count": 43,
   "id": "468271cf",
   "metadata": {},
   "outputs": [
    {
     "data": {
      "text/plain": [
       "'123456'"
      ]
     },
     "execution_count": 43,
     "metadata": {},
     "output_type": "execute_result"
    }
   ],
   "source": [
    "var1 = '1234'\n",
    "var2 = \"56\"\n",
    "var1 + var2"
   ]
  },
  {
   "cell_type": "code",
   "execution_count": 44,
   "id": "1f1058db",
   "metadata": {},
   "outputs": [
    {
     "data": {
      "text/plain": [
       "1290"
      ]
     },
     "execution_count": 44,
     "metadata": {},
     "output_type": "execute_result"
    }
   ],
   "source": [
    "var1 = int('1234')\n",
    "var2 = int(\"56\")\n",
    "var1 + var2 "
   ]
  },
  {
   "cell_type": "code",
   "execution_count": 45,
   "id": "c22bdcb3",
   "metadata": {},
   "outputs": [
    {
     "data": {
      "text/plain": [
       "str"
      ]
     },
     "execution_count": 45,
     "metadata": {},
     "output_type": "execute_result"
    }
   ],
   "source": [
    "s1 = ' '\n",
    "type(s1)"
   ]
  },
  {
   "cell_type": "code",
   "execution_count": 46,
   "id": "e451ce68",
   "metadata": {},
   "outputs": [
    {
     "data": {
      "text/plain": [
       "'pythonpythonpythonpythonpython'"
      ]
     },
     "execution_count": 46,
     "metadata": {},
     "output_type": "execute_result"
    }
   ],
   "source": [
    "str1 = 'python'\n",
    "str1 * 5"
   ]
  },
  {
   "cell_type": "markdown",
   "id": "431f3ecc",
   "metadata": {},
   "source": [
    "### 1. capitalize()"
   ]
  },
  {
   "cell_type": "code",
   "execution_count": null,
   "id": "3e017730",
   "metadata": {},
   "outputs": [],
   "source": [
    "It will capitalize only first char of string zero index char"
   ]
  },
  {
   "cell_type": "code",
   "execution_count": 49,
   "id": "027565b9",
   "metadata": {},
   "outputs": [
    {
     "data": {
      "text/plain": [
       "'Python and data science'"
      ]
     },
     "execution_count": 49,
     "metadata": {},
     "output_type": "execute_result"
    }
   ],
   "source": [
    "string='python and data science'\n",
    "string.capitalize()"
   ]
  },
  {
   "cell_type": "markdown",
   "id": "73873530",
   "metadata": {},
   "source": [
    "### 2.upper()"
   ]
  },
  {
   "cell_type": "code",
   "execution_count": null,
   "id": "7c2301d2",
   "metadata": {},
   "outputs": [],
   "source": [
    "changes every character to the upper case"
   ]
  },
  {
   "cell_type": "code",
   "execution_count": 50,
   "id": "951242bc",
   "metadata": {},
   "outputs": [
    {
     "data": {
      "text/plain": [
       "'PYTHON AND DATA SCIENCE'"
      ]
     },
     "execution_count": 50,
     "metadata": {},
     "output_type": "execute_result"
    }
   ],
   "source": [
    "string.upper()"
   ]
  },
  {
   "cell_type": "markdown",
   "id": "ef48d50b",
   "metadata": {},
   "source": [
    "### 3.lower()"
   ]
  },
  {
   "cell_type": "code",
   "execution_count": null,
   "id": "71fdef32",
   "metadata": {},
   "outputs": [],
   "source": [
    "changes every character to lower case"
   ]
  },
  {
   "cell_type": "code",
   "execution_count": 51,
   "id": "d1a0914d",
   "metadata": {},
   "outputs": [
    {
     "data": {
      "text/plain": [
       "'python'"
      ]
     },
     "execution_count": 51,
     "metadata": {},
     "output_type": "execute_result"
    }
   ],
   "source": [
    "string='Python'\n",
    "string.lower()"
   ]
  },
  {
   "cell_type": "code",
   "execution_count": 52,
   "id": "acbed5a7",
   "metadata": {},
   "outputs": [
    {
     "data": {
      "text/plain": [
       "'python'"
      ]
     },
     "execution_count": 52,
     "metadata": {},
     "output_type": "execute_result"
    }
   ],
   "source": [
    "string='PYTHON'\n",
    "string.lower()"
   ]
  },
  {
   "cell_type": "code",
   "execution_count": null,
   "id": "c0bdff3d",
   "metadata": {},
   "outputs": [],
   "source": []
  }
 ],
 "metadata": {
  "kernelspec": {
   "display_name": "Python 3 (ipykernel)",
   "language": "python",
   "name": "python3"
  },
  "language_info": {
   "codemirror_mode": {
    "name": "ipython",
    "version": 3
   },
   "file_extension": ".py",
   "mimetype": "text/x-python",
   "name": "python",
   "nbconvert_exporter": "python",
   "pygments_lexer": "ipython3",
   "version": "3.9.7"
  }
 },
 "nbformat": 4,
 "nbformat_minor": 5
}
